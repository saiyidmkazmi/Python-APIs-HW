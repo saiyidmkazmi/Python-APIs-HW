{
 "cells": [
  {
   "cell_type": "markdown",
   "metadata": {},
   "source": [
    "# WeatherPy\n",
    "----\n",
    "\n",
    "#### Note\n",
    "* Instructions have been included for each segment. You do not have to follow them exactly, but they are included to help you think through the steps."
   ]
  },
  {
   "cell_type": "code",
   "execution_count": 1,
   "metadata": {
    "scrolled": true
   },
   "outputs": [],
   "source": [
    "# Dependencies and Setup\n",
    "import matplotlib.pyplot as plt\n",
    "import pandas as pd\n",
    "import numpy as np\n",
    "import requests\n",
    "import time\n",
    "import os\n",
    "from scipy.stats import linregress\n",
    "\n",
    "# Import API key\n",
    "from api_keys import weather_api_key\n",
    "\n",
    "# Incorporated citipy to determine city based on latitude and longitude\n",
    "from citipy import citipy\n",
    "\n",
    "# Output File (CSV)\n",
    "output_data_file = \"output_data/cities.csv\"\n",
    "\n",
    "# Range of latitudes and longitudes\n",
    "lat_range = (-90, 90)\n",
    "lng_range = (-180, 180)"
   ]
  },
  {
   "cell_type": "code",
   "execution_count": 2,
   "metadata": {},
   "outputs": [
    {
     "data": {
      "text/plain": [
       "'C:\\\\Users\\\\13147\\\\Resources\\\\Python-APIs-HW'"
      ]
     },
     "execution_count": 2,
     "metadata": {},
     "output_type": "execute_result"
    }
   ],
   "source": [
    "os.getcwd()"
   ]
  },
  {
   "cell_type": "markdown",
   "metadata": {},
   "source": [
    "## Generate Cities List"
   ]
  },
  {
   "cell_type": "code",
   "execution_count": 3,
   "metadata": {},
   "outputs": [
    {
     "data": {
      "text/plain": [
       "585"
      ]
     },
     "execution_count": 3,
     "metadata": {},
     "output_type": "execute_result"
    }
   ],
   "source": [
    "# List for holding lat_lngs and cities\n",
    "lat_lngs = []\n",
    "cities = []\n",
    "\n",
    "# Create a set of random lat and lng combinations\n",
    "lats = np.random.uniform(lat_range[0], lat_range[1], size=1500)\n",
    "lngs = np.random.uniform(lng_range[0], lng_range[1], size=1500)\n",
    "lat_lngs = zip(lats, lngs)\n",
    "\n",
    "# Identify nearest city for each lat, lng combination\n",
    "for lat_lng in lat_lngs:\n",
    "    city = citipy.nearest_city(lat_lng[0], lat_lng[1]).city_name\n",
    "    \n",
    "    # If the city is unique, then add it to a our cities list\n",
    "    if city not in cities:\n",
    "        cities.append(city)\n",
    "\n",
    "# Print the city count to confirm sufficient count\n",
    "len(cities)"
   ]
  },
  {
   "cell_type": "markdown",
   "metadata": {},
   "source": [
    "### Perform API Calls\n",
    "* Perform a weather check on each city using a series of successive API calls.\n",
    "* Include a print log of each city as it'sbeing processed (with the city number and city name).\n"
   ]
  },
  {
   "cell_type": "code",
   "execution_count": 4,
   "metadata": {
    "scrolled": true
   },
   "outputs": [
    {
     "name": "stdout",
     "output_type": "stream",
     "text": [
      "Processing record 1|provideniya\n",
      "Processing record 2|opuwo\n",
      "Processing record 3|aklavik\n",
      "Processing record 4|chuy\n",
      "Processing record 5|sinnamary\n",
      "Processing record 6|iguape\n",
      "Processing record 7|henties bay\n",
      "Processing record 8|clyde river\n",
      "Processing record 9|kamenka\n",
      "Processing record 10|saskylakh\n",
      "Processing record 11|kaitangata\n",
      "Processing record 12|saint george\n",
      "City not found. skipping.\n",
      "Processing record 13|tiznit\n",
      "Processing record 14|dikson\n",
      "Processing record 15|verkhnyaya inta\n",
      "Processing record 16|comodoro rivadavia\n",
      "Processing record 17|mahibadhoo\n",
      "Processing record 18|rikitea\n",
      "Processing record 19|wad rawah\n",
      "Processing record 20|jamestown\n",
      "Processing record 21|masaurhi\n",
      "Processing record 22|ushuaia\n",
      "Processing record 23|qaanaaq\n",
      "Processing record 24|carnarvon\n",
      "Processing record 25|busselton\n",
      "Processing record 26|sept-iles\n",
      "Processing record 27|hermanus\n",
      "Processing record 28|ambilobe\n",
      "Processing record 29|bluff\n",
      "Processing record 30|hasaki\n",
      "Processing record 31|cockburn town\n",
      "Processing record 32|puerto ayora\n",
      "Processing record 33|sadao\n",
      "Processing record 34|laguna\n",
      "Processing record 35|mataura\n",
      "City not found. skipping.\n",
      "Processing record 36|chumikan\n",
      "Processing record 37|coihaique\n",
      "City not found. skipping.\n",
      "Processing record 38|dunmore town\n",
      "Processing record 39|butaritari\n",
      "Processing record 40|cape town\n",
      "Processing record 41|boyolangu\n",
      "Processing record 42|albany\n",
      "Processing record 43|castro\n",
      "Processing record 44|bredasdorp\n",
      "Processing record 45|hobart\n",
      "Processing record 46|roebourne\n",
      "City not found. skipping.\n",
      "Processing record 47|punta arenas\n",
      "Processing record 48|hilo\n",
      "Processing record 49|zanjan\n",
      "Processing record 50|new norfolk\n",
      "Processing record 51|havelock\n",
      "Processing record 52|nanortalik\n",
      "Processing record 53|airai\n",
      "Processing record 54|iaciara\n",
      "Processing record 55|esperance\n",
      "Processing record 56|beringovskiy\n",
      "City not found. skipping.\n",
      "Processing record 57|santa rosa\n",
      "Processing record 58|port hedland\n",
      "Processing record 59|hospet\n",
      "Processing record 60|mar del plata\n",
      "City not found. skipping.\n",
      "Processing record 61|barrow\n",
      "Processing record 62|requena\n",
      "Processing record 63|nikolskoye\n",
      "Processing record 64|pathein\n",
      "Processing record 65|gushikawa\n",
      "Processing record 66|bjornevatn\n",
      "Processing record 67|kaeo\n",
      "Processing record 68|izhevskoye\n",
      "Processing record 69|chegdomyn\n",
      "Processing record 70|poso\n",
      "Processing record 71|sakakah\n",
      "Processing record 72|kapaa\n",
      "Processing record 73|toamasina\n",
      "City not found. skipping.\n",
      "Processing record 74|port elizabeth\n",
      "Processing record 75|muros\n",
      "Processing record 76|chokurdakh\n",
      "Processing record 77|cidreira\n",
      "Processing record 78|khandbari\n",
      "Processing record 79|kodiak\n",
      "Processing record 80|georgetown\n",
      "Processing record 81|abu kamal\n",
      "Processing record 82|yulara\n",
      "Processing record 83|college\n",
      "Processing record 84|tasiilaq\n",
      "Processing record 85|arraial do cabo\n",
      "Processing record 86|xining\n",
      "City not found. skipping.\n",
      "Processing record 87|geraldton\n",
      "Processing record 88|bengkulu\n",
      "Processing record 89|altay\n",
      "Processing record 90|ponta do sol\n",
      "Processing record 91|pochutla\n",
      "Processing record 92|rafsanjan\n",
      "Processing record 93|san carlos de bariloche\n",
      "Processing record 94|palmer\n",
      "Processing record 95|luzilandia\n",
      "Processing record 96|ahipara\n",
      "Processing record 97|nizwa\n",
      "Processing record 98|lebu\n",
      "Processing record 99|atuona\n",
      "Processing record 100|avarua\n",
      "Processing record 101|norman wells\n",
      "Processing record 102|kieta\n",
      "Processing record 103|lompoc\n",
      "Processing record 104|vardo\n",
      "Processing record 105|iskateley\n",
      "Processing record 106|juneau\n",
      "Processing record 107|mega\n",
      "Processing record 108|qandala\n",
      "Processing record 109|san quintin\n",
      "Processing record 110|upernavik\n",
      "Processing record 111|kazerun\n",
      "Processing record 112|iqaluit\n",
      "City not found. skipping.\n",
      "City not found. skipping.\n",
      "Processing record 113|vaini\n",
      "Processing record 114|bambous virieux\n",
      "Processing record 115|thompson\n",
      "City not found. skipping.\n",
      "Processing record 116|oistins\n",
      "Processing record 117|kudahuvadhoo\n",
      "Processing record 118|ourossogui\n",
      "Processing record 119|coquimbo\n",
      "Processing record 120|mahebourg\n",
      "Processing record 121|sinjar\n",
      "Processing record 122|taksimo\n",
      "City not found. skipping.\n",
      "Processing record 123|grand gaube\n",
      "Processing record 124|ofunato\n",
      "City not found. skipping.\n",
      "Processing record 125|acapulco\n",
      "Processing record 126|souillac\n",
      "Processing record 127|lavrentiya\n",
      "Processing record 128|sao filipe\n",
      "Processing record 129|faanui\n",
      "Processing record 130|isangel\n",
      "Processing record 131|joigny\n",
      "Processing record 132|vao\n",
      "Processing record 133|tuatapere\n",
      "Processing record 134|mastung\n",
      "Processing record 135|severo-kurilsk\n",
      "Processing record 136|port alfred\n",
      "Processing record 137|sorland\n",
      "Processing record 138|bethel\n",
      "Processing record 139|el arenal\n",
      "Processing record 140|russell\n",
      "Processing record 141|yudong\n",
      "Processing record 142|beloha\n",
      "Processing record 143|tolmin\n",
      "Processing record 144|lwowek slaski\n",
      "Processing record 145|hobyo\n",
      "Processing record 146|alice springs\n",
      "Processing record 147|cabo san lucas\n",
      "Processing record 148|mangan\n",
      "City not found. skipping.\n",
      "Processing record 149|tianpeng\n",
      "Processing record 150|hithadhoo\n",
      "Processing record 151|humberto de campos\n",
      "Processing record 152|teahupoo\n",
      "City not found. skipping.\n",
      "Processing record 153|saldanha\n",
      "Processing record 154|carauari\n",
      "Processing record 155|yellowknife\n",
      "Processing record 156|ancud\n",
      "Processing record 157|bennington\n",
      "Processing record 158|jining\n",
      "Processing record 159|kailua\n",
      "Processing record 160|boysun\n",
      "Processing record 161|kununurra\n",
      "Processing record 162|kruisfontein\n",
      "Processing record 163|nantucket\n",
      "Processing record 164|berlevag\n",
      "Processing record 165|booue\n",
      "Processing record 166|anadyr\n",
      "Processing record 167|awjilah\n",
      "Processing record 168|tuktoyaktuk\n",
      "Processing record 169|dingle\n",
      "Processing record 170|longyearbyen\n",
      "Processing record 171|mozarlandia\n",
      "Processing record 172|portland\n",
      "City not found. skipping.\n",
      "Processing record 173|brae\n",
      "Processing record 174|ribeira grande\n",
      "Processing record 175|hami\n",
      "City not found. skipping.\n",
      "Processing record 176|lamont\n",
      "Processing record 177|la asuncion\n",
      "Processing record 178|calbuco\n",
      "Processing record 179|guerrero negro\n",
      "Processing record 180|constitucion\n",
      "Processing record 181|lorengau\n",
      "City not found. skipping.\n",
      "Processing record 182|namatanai\n",
      "Processing record 183|dongying\n",
      "Processing record 184|ankola\n",
      "Processing record 185|pocone\n",
      "City not found. skipping.\n",
      "Processing record 186|east london\n",
      "Processing record 187|atar\n",
      "Processing record 188|victoria\n",
      "Processing record 189|marquette\n",
      "Processing record 190|diban\n",
      "Processing record 191|malanje\n",
      "Processing record 192|glenwood springs\n",
      "Processing record 193|teacapan\n",
      "Processing record 194|umm lajj\n",
      "Processing record 195|pisco\n",
      "Processing record 196|husavik\n",
      "Processing record 197|abu zabad\n",
      "Processing record 198|banda aceh\n",
      "Processing record 199|havoysund\n",
      "Processing record 200|lebowakgomo\n",
      "Processing record 201|juanjui\n",
      "Processing record 202|nioro\n",
      "Processing record 203|ostersund\n",
      "Processing record 204|aleppo\n",
      "Processing record 205|ocampo\n",
      "Processing record 206|liwonde\n",
      "Processing record 207|hofn\n",
      "Processing record 208|deputatskiy\n",
      "Processing record 209|pitsunda\n",
      "Processing record 210|aykhal\n",
      "Processing record 211|bathsheba\n",
      "Processing record 212|karratha\n",
      "Processing record 213|monywa\n",
      "City not found. skipping.\n",
      "Processing record 214|meulaboh\n",
      "Processing record 215|sur\n",
      "Processing record 216|merauke\n",
      "Processing record 217|vanavara\n",
      "Processing record 218|hashtrud\n",
      "Processing record 219|kamariotissa\n",
      "Processing record 220|fortuna\n",
      "Processing record 221|nauta\n",
      "Processing record 222|pingliang\n",
      "City not found. skipping.\n",
      "Processing record 223|ochamchira\n",
      "Processing record 224|hualmay\n",
      "Processing record 225|badiraguato\n",
      "Processing record 226|narsaq\n",
      "Processing record 227|ismailia\n",
      "Processing record 228|mizdah\n",
      "City not found. skipping.\n",
      "Processing record 229|bara\n",
      "City not found. skipping.\n",
      "Processing record 230|caxito\n",
      "Processing record 231|dingzhou\n",
      "Processing record 232|dickinson\n",
      "Processing record 233|zhezkazgan\n",
      "Processing record 234|honiara\n",
      "Processing record 235|abu samrah\n",
      "Processing record 236|flinders\n",
      "Processing record 237|barreirinha\n",
      "Processing record 238|mweka\n",
      "Processing record 239|samarai\n",
      "Processing record 240|aksarka\n",
      "Processing record 241|corinth\n",
      "Processing record 242|topeka\n",
      "Processing record 243|cherskiy\n",
      "Processing record 244|broome\n",
      "Processing record 245|zhuanghe\n",
      "Processing record 246|tamandare\n",
      "Processing record 247|lewisporte\n",
      "Processing record 248|grindavik\n",
      "Processing record 249|chartres\n",
      "Processing record 250|zhigalovo\n",
      "Processing record 251|talisay\n",
      "Processing record 252|barra da estiva\n",
      "Processing record 253|alofi\n",
      "City not found. skipping.\n",
      "Processing record 254|biak\n",
      "Processing record 255|gladstone\n",
      "Processing record 256|padang\n",
      "Processing record 257|beroroha\n",
      "Processing record 258|tambaram\n",
      "City not found. skipping.\n",
      "Processing record 259|mao\n",
      "Processing record 260|ankazobe\n",
      "Processing record 261|marsaxlokk\n",
      "Processing record 262|nouadhibou\n",
      "Processing record 263|paamiut\n",
      "Processing record 264|weatherford\n",
      "Processing record 265|myanaung\n",
      "Processing record 266|nanakuli\n",
      "Processing record 267|jumla\n",
      "Processing record 268|saint joseph\n",
      "Processing record 269|klaksvik\n",
      "Processing record 270|tahoua\n",
      "Processing record 271|katsuura\n",
      "Processing record 272|bagdarin\n",
      "Processing record 273|omboue\n",
      "Processing record 274|chebenki\n",
      "Processing record 275|termiz\n",
      "Processing record 276|ormstown\n",
      "City not found. skipping.\n",
      "Processing record 277|dire\n",
      "Processing record 278|saint-augustin\n",
      "Processing record 279|bemidji\n",
      "Processing record 280|torbay\n",
      "Processing record 281|artigas\n",
      "Processing record 282|teya\n",
      "Processing record 283|dunedin\n",
      "City not found. skipping.\n",
      "Processing record 284|vila do maio\n",
      "Processing record 285|maldonado\n",
      "Processing record 286|saint paul\n",
      "Processing record 287|vila franca do campo\n",
      "Processing record 288|moyale\n",
      "Processing record 289|arlit\n",
      "Processing record 290|papayal\n",
      "Processing record 291|kipushi\n",
      "Processing record 292|tura\n",
      "Processing record 293|topolobampo\n",
      "City not found. skipping.\n",
      "Processing record 294|saint-pierre\n",
      "Processing record 295|kashi\n",
      "Processing record 296|yaan\n",
      "Processing record 297|prince george\n",
      "Processing record 298|saint-philippe\n",
      "Processing record 299|pecos\n",
      "Processing record 300|houston\n",
      "Processing record 301|sao jose da coroa grande\n",
      "Processing record 302|agua preta\n",
      "Processing record 303|truth or consequences\n",
      "Processing record 304|srednekolymsk\n",
      "Processing record 305|talara\n",
      "City not found. skipping.\n",
      "Processing record 306|agadez\n",
      "Processing record 307|ostrovnoy\n",
      "Processing record 308|kavieng\n",
      "Processing record 309|shingu\n",
      "Processing record 310|imbituba\n",
      "Processing record 311|uppsala\n",
      "Processing record 312|parit buntar\n",
      "Processing record 313|letychiv\n",
      "Processing record 314|egvekinot\n",
      "City not found. skipping.\n",
      "Processing record 315|richards bay\n",
      "Processing record 316|angoche\n",
      "Processing record 317|axim\n",
      "Processing record 318|qasigiannguit\n",
      "Processing record 319|naze\n",
      "Processing record 320|fethiye\n",
      "Processing record 321|tiksi\n",
      "Processing record 322|liwale\n",
      "Processing record 323|kathmandu\n",
      "Processing record 324|yambio\n",
      "Processing record 325|mbandaka\n",
      "Processing record 326|whitehorse\n",
      "Processing record 327|asekeyevo\n",
      "Processing record 328|longjiang\n",
      "Processing record 329|palia kalan\n",
      "Processing record 330|acajutla\n",
      "Processing record 331|skegness\n",
      "Processing record 332|dhidhdhoo\n",
      "Processing record 333|krasnovishersk\n",
      "Processing record 334|jutai\n",
      "Processing record 335|krasnoselkup\n",
      "Processing record 336|gat\n",
      "Processing record 337|salinopolis\n",
      "Processing record 338|vestmannaeyjar\n",
      "Processing record 339|chapais\n",
      "Processing record 340|eureka\n",
      "Processing record 341|khandyga\n",
      "Processing record 342|rio grande\n",
      "City not found. skipping.\n",
      "Processing record 343|ndioum\n",
      "Processing record 344|illintsi\n",
      "Processing record 345|leshukonskoye\n",
      "Processing record 346|quatre cocos\n",
      "Processing record 347|along\n",
      "City not found. skipping.\n",
      "Processing record 348|innisfail\n",
      "Processing record 349|new bern\n",
      "Processing record 350|valday\n",
      "Processing record 351|oranjemund\n",
      "Processing record 352|iracoubo\n",
      "Processing record 353|fallon\n",
      "Processing record 354|zhigansk\n",
      "Processing record 355|saint anthony\n",
      "Processing record 356|ardakan\n",
      "Processing record 357|eraniel\n",
      "Processing record 358|flin flon\n",
      "Processing record 359|khatanga\n",
      "Processing record 360|matara\n",
      "Processing record 361|horsham\n",
      "Processing record 362|guanagazapa\n",
      "Processing record 363|obo\n",
      "Processing record 364|saint-joseph\n",
      "Processing record 365|prince rupert\n",
      "Processing record 366|hegang\n",
      "Processing record 367|mathathane\n",
      "Processing record 368|igrim\n",
      "Processing record 369|ulladulla\n",
      "Processing record 370|adrar\n",
      "Processing record 371|byron bay\n",
      "Processing record 372|okha\n",
      "Processing record 373|lethem\n",
      "Processing record 374|warmbad\n",
      "Processing record 375|kungalv\n",
      "Processing record 376|balkanabat\n",
      "Processing record 377|batagay-alyta\n",
      "Processing record 378|kristiinankaupunki\n",
      "Processing record 379|uusikaupunki\n",
      "Processing record 380|touros\n",
      "Processing record 381|karakol\n",
      "Processing record 382|shiyan\n",
      "Processing record 383|hovd\n",
      "Processing record 384|golspie\n",
      "Processing record 385|sokolo\n",
      "Processing record 386|itoman\n",
      "Processing record 387|caravelas\n",
      "Processing record 388|san patricio\n",
      "Processing record 389|tilichiki\n",
      "Processing record 390|jijiga\n",
      "Processing record 391|codrington\n",
      "Processing record 392|morrope\n",
      "Processing record 393|padilla\n",
      "Processing record 394|manoharpur\n",
      "Processing record 395|cochrane\n",
      "Processing record 396|nicoya\n",
      "Processing record 397|tokur\n",
      "Processing record 398|pacific grove\n",
      "Processing record 399|pemangkat\n",
      "Processing record 400|okhotsk\n",
      "Processing record 401|ngama\n",
      "City not found. skipping.\n",
      "Processing record 402|torata\n",
      "Processing record 403|ericeira\n",
      "Processing record 404|milton\n",
      "Processing record 405|guilin\n",
      "Processing record 406|kavaratti\n",
      "Processing record 407|wajima\n",
      "Processing record 408|save\n",
      "Processing record 409|nome\n",
      "Processing record 410|poum\n",
      "Processing record 411|pizarro\n",
      "Processing record 412|burnie\n",
      "Processing record 413|nakusp\n",
      "Processing record 414|acari\n",
      "Processing record 415|gondanglegi\n",
      "Processing record 416|kirkland lake\n",
      "Processing record 417|qazax\n",
      "Processing record 418|xam nua\n",
      "Processing record 419|bonfim\n",
      "Processing record 420|kushmurun\n",
      "Processing record 421|belmonte\n",
      "Processing record 422|pevek\n",
      "Processing record 423|shimoda\n",
      "Processing record 424|hunchun\n",
      "Processing record 425|luderitz\n",
      "Processing record 426|alta floresta\n",
      "Processing record 427|ibra\n",
      "Processing record 428|bosaso\n",
      "Processing record 429|sitio novo do tocantins\n",
      "Processing record 430|torremolinos\n",
      "Processing record 431|salalah\n",
      "Processing record 432|grootfontein\n",
      "Processing record 433|healesville\n",
      "Processing record 434|formosa\n",
      "Processing record 435|boguchany\n",
      "Processing record 436|trinidad\n",
      "Processing record 437|kingsville\n",
      "Processing record 438|mansa\n",
      "Processing record 439|pathri\n",
      "Processing record 440|nefteyugansk\n",
      "Processing record 441|brighton\n",
      "Processing record 442|paramonga\n",
      "Processing record 443|gorontalo\n",
      "Processing record 444|kahului\n",
      "Processing record 445|stokmarknes\n",
      "Processing record 446|bethanien\n",
      "Processing record 447|tigil\n",
      "Processing record 448|svetlogorsk\n",
      "Processing record 449|monterey\n",
      "City not found. skipping.\n",
      "Processing record 450|karaton\n",
      "Processing record 451|bahia honda\n",
      "Processing record 452|thinadhoo\n",
      "Processing record 453|navalcarnero\n",
      "Processing record 454|jiangkou\n",
      "Processing record 455|mahenge\n",
      "Processing record 456|hammerfest\n",
      "Processing record 457|southbridge\n",
      "Processing record 458|ittiri\n",
      "Processing record 459|lahij\n",
      "Processing record 460|pryluky\n",
      "Processing record 461|kommunar\n",
      "Processing record 462|khartoum\n",
      "Processing record 463|taunggyi\n",
      "Processing record 464|parabel\n",
      "Processing record 465|port hardy\n",
      "Processing record 466|sandovo\n",
      "Processing record 467|vicuna\n",
      "Processing record 468|mattru\n",
      "Processing record 469|masallatah\n",
      "Processing record 470|sitka\n",
      "Processing record 471|zhanakorgan\n",
      "Processing record 472|nunoa\n",
      "Processing record 473|tashtyp\n",
      "Processing record 474|zanesville\n",
      "Processing record 475|sheffield\n",
      "Processing record 476|albury\n",
      "Processing record 477|napier\n",
      "City not found. skipping.\n",
      "Processing record 478|hof\n",
      "Processing record 479|tessalit\n",
      "Processing record 480|kyshtovka\n",
      "Processing record 481|cajibio\n",
      "Processing record 482|lakes entrance\n",
      "Processing record 483|pag\n",
      "Processing record 484|palauig\n",
      "Processing record 485|uthal\n",
      "Processing record 486|marystown\n",
      "Processing record 487|melita\n",
      "Processing record 488|kirtipur\n",
      "Processing record 489|inuvik\n",
      "Processing record 490|oktyabrskoye\n",
      "Processing record 491|el alto\n",
      "City not found. skipping.\n",
      "Processing record 492|opichen\n",
      "Processing record 493|skala\n",
      "Processing record 494|pingzhuang\n",
      "Processing record 495|fairbanks\n",
      "Processing record 496|asifabad\n",
      "Processing record 497|westport\n",
      "City not found. skipping.\n",
      "Processing record 498|mount gambier\n",
      "Processing record 499|ghanzi\n",
      "Processing record 500|namibe\n",
      "Processing record 501|homer\n",
      "Processing record 502|kathu\n",
      "Processing record 503|lincoln\n",
      "Processing record 504|mugur-aksy\n",
      "Processing record 505|smolenskaya\n",
      "Processing record 506|cross lanes\n",
      "Processing record 507|lasa\n",
      "Processing record 508|solnechnyy\n",
      "City not found. skipping.\n",
      "Processing record 509|barcelona\n",
      "Processing record 510|la primavera\n",
      "Processing record 511|balkhash\n",
      "Processing record 512|charters towers\n",
      "Processing record 513|najran\n",
      "Processing record 514|north myrtle beach\n",
      "Processing record 515|druzhba\n",
      "Processing record 516|porto novo\n",
      "Processing record 517|herend\n",
      "Processing record 518|garmsar\n",
      "Processing record 519|kraskino\n",
      "Processing record 520|buba\n",
      "Processing record 521|tulare\n",
      "Processing record 522|nioki\n",
      "Processing record 523|obuasi\n",
      "Processing record 524|vaitape\n",
      "Processing record 525|carnduff\n",
      "Processing record 526|hervey bay\n",
      "Processing record 527|nelson bay\n",
      "Processing record 528|yumen\n",
      "Processing record 529|maku\n",
      "Processing record 530|xilopolis\n",
      "Processing record 531|kutum\n",
      "Processing record 532|waingapu\n",
      "Processing record 533|la baneza\n",
      "Processing record 534|lebedinyy\n",
      "Processing record 535|znojmo\n",
      "Processing record 536|port blair\n",
      "Processing record 537|smidovich\n",
      "Processing record 538|kloulklubed\n",
      "Processing record 539|stromness\n",
      "Processing record 540|olafsvik\n",
      "Processing record 541|sembe\n",
      "Processing record 542|faya\n",
      "Processing record 543|yepifan\n",
      "Processing record 544|ginir\n",
      "Processing record 545|taoudenni\n",
      "Processing record 546|dunmore east\n",
      "Processing record 547|los llanos de aridane\n"
     ]
    }
   ],
   "source": [
    "url = \"http://api.openweathermap.org/data/2.5/weather?units=Imperial&\"\n",
    "\n",
    "#Define empty lists to store values\n",
    "cloudiness = []\n",
    "country = []\n",
    "date = []\n",
    "max_temp = []\n",
    "humidity = []\n",
    "lat = []\n",
    "lng = []\n",
    "wind_speed = []\n",
    "city_name = []\n",
    "i =1\n",
    "for city in cities:\n",
    "    city = city\n",
    "    query_url = f\"{url}appid={weather_api_key}&q={city}\"\n",
    "    response = requests.get(query_url).json()\n",
    "    \n",
    "#Extracting data. Missing data is handled by try and except  \n",
    "    try:\n",
    "        \n",
    "        cloudiness.append(response[\"clouds\"][\"all\"])\n",
    "        country.append(response[\"sys\"][\"country\"])\n",
    "        date.append(response[\"dt\"])\n",
    "        max_temp.append(response[\"main\"]['temp_max'])\n",
    "        humidity.append(response[\"main\"]['humidity'])\n",
    "        lat.append(response[\"coord\"][\"lat\"])  \n",
    "        lng.append(response[\"coord\"][\"lon\"])\n",
    "        wind_speed.append(response[\"wind\"][\"speed\"])\n",
    "        city_name.append(response[\"name\"])\n",
    "        print(f\"Processing record {i}|{city}\")\n",
    "        i+=1\n",
    "    except (KeyError):\n",
    "        print(\"City not found. skipping.\")"
   ]
  },
  {
   "cell_type": "markdown",
   "metadata": {},
   "source": [
    "### Convert Raw Data to DataFrame\n",
    "* Export the city data into a .csv.\n",
    "* Display the DataFrame"
   ]
  },
  {
   "cell_type": "code",
   "execution_count": 5,
   "metadata": {},
   "outputs": [],
   "source": [
    "city_df = pd.DataFrame({\"City\":city_name, \n",
    "                        \"Cloudiness\":cloudiness, \n",
    "                        \"Country\":country, \n",
    "                        \"Date\":date, \n",
    "                        \"Humidity\":humidity,\n",
    "                        \"Lat\":lat,\n",
    "                        \"Lng\":lng,\n",
    "                        \"Max Temp\":max_temp,\n",
    "                        \"Wind Speed\":wind_speed})"
   ]
  },
  {
   "cell_type": "code",
   "execution_count": 6,
   "metadata": {},
   "outputs": [
    {
     "data": {
      "text/html": [
       "<div>\n",
       "<style scoped>\n",
       "    .dataframe tbody tr th:only-of-type {\n",
       "        vertical-align: middle;\n",
       "    }\n",
       "\n",
       "    .dataframe tbody tr th {\n",
       "        vertical-align: top;\n",
       "    }\n",
       "\n",
       "    .dataframe thead th {\n",
       "        text-align: right;\n",
       "    }\n",
       "</style>\n",
       "<table border=\"1\" class=\"dataframe\">\n",
       "  <thead>\n",
       "    <tr style=\"text-align: right;\">\n",
       "      <th></th>\n",
       "      <th>City</th>\n",
       "      <th>Cloudiness</th>\n",
       "      <th>Country</th>\n",
       "      <th>Date</th>\n",
       "      <th>Humidity</th>\n",
       "      <th>Lat</th>\n",
       "      <th>Lng</th>\n",
       "      <th>Max Temp</th>\n",
       "      <th>Wind Speed</th>\n",
       "    </tr>\n",
       "    <tr>\n",
       "      <th>City ID</th>\n",
       "      <th></th>\n",
       "      <th></th>\n",
       "      <th></th>\n",
       "      <th></th>\n",
       "      <th></th>\n",
       "      <th></th>\n",
       "      <th></th>\n",
       "      <th></th>\n",
       "      <th></th>\n",
       "    </tr>\n",
       "  </thead>\n",
       "  <tbody>\n",
       "    <tr>\n",
       "      <th>0</th>\n",
       "      <td>Provideniya</td>\n",
       "      <td>99</td>\n",
       "      <td>RU</td>\n",
       "      <td>1624559284</td>\n",
       "      <td>59</td>\n",
       "      <td>64.3833</td>\n",
       "      <td>-173.3000</td>\n",
       "      <td>56.79</td>\n",
       "      <td>7.49</td>\n",
       "    </tr>\n",
       "    <tr>\n",
       "      <th>1</th>\n",
       "      <td>Opuwo</td>\n",
       "      <td>0</td>\n",
       "      <td>NA</td>\n",
       "      <td>1624559284</td>\n",
       "      <td>30</td>\n",
       "      <td>-18.0607</td>\n",
       "      <td>13.8400</td>\n",
       "      <td>65.21</td>\n",
       "      <td>7.31</td>\n",
       "    </tr>\n",
       "    <tr>\n",
       "      <th>2</th>\n",
       "      <td>Aklavik</td>\n",
       "      <td>40</td>\n",
       "      <td>CA</td>\n",
       "      <td>1624559285</td>\n",
       "      <td>72</td>\n",
       "      <td>68.2191</td>\n",
       "      <td>-135.0107</td>\n",
       "      <td>79.63</td>\n",
       "      <td>6.91</td>\n",
       "    </tr>\n",
       "    <tr>\n",
       "      <th>3</th>\n",
       "      <td>Chui</td>\n",
       "      <td>100</td>\n",
       "      <td>UY</td>\n",
       "      <td>1624559285</td>\n",
       "      <td>95</td>\n",
       "      <td>-33.6971</td>\n",
       "      <td>-53.4616</td>\n",
       "      <td>58.24</td>\n",
       "      <td>14.83</td>\n",
       "    </tr>\n",
       "    <tr>\n",
       "      <th>4</th>\n",
       "      <td>Sinnamary</td>\n",
       "      <td>62</td>\n",
       "      <td>GF</td>\n",
       "      <td>1624559286</td>\n",
       "      <td>67</td>\n",
       "      <td>5.3833</td>\n",
       "      <td>-52.9500</td>\n",
       "      <td>83.44</td>\n",
       "      <td>2.73</td>\n",
       "    </tr>\n",
       "    <tr>\n",
       "      <th>...</th>\n",
       "      <td>...</td>\n",
       "      <td>...</td>\n",
       "      <td>...</td>\n",
       "      <td>...</td>\n",
       "      <td>...</td>\n",
       "      <td>...</td>\n",
       "      <td>...</td>\n",
       "      <td>...</td>\n",
       "      <td>...</td>\n",
       "    </tr>\n",
       "    <tr>\n",
       "      <th>542</th>\n",
       "      <td>Yepifan'</td>\n",
       "      <td>15</td>\n",
       "      <td>RU</td>\n",
       "      <td>1624559459</td>\n",
       "      <td>73</td>\n",
       "      <td>53.8253</td>\n",
       "      <td>38.5518</td>\n",
       "      <td>75.29</td>\n",
       "      <td>5.70</td>\n",
       "    </tr>\n",
       "    <tr>\n",
       "      <th>543</th>\n",
       "      <td>Ginir</td>\n",
       "      <td>99</td>\n",
       "      <td>ET</td>\n",
       "      <td>1624559460</td>\n",
       "      <td>76</td>\n",
       "      <td>7.1333</td>\n",
       "      <td>40.7000</td>\n",
       "      <td>57.24</td>\n",
       "      <td>6.44</td>\n",
       "    </tr>\n",
       "    <tr>\n",
       "      <th>544</th>\n",
       "      <td>Taoudenni</td>\n",
       "      <td>3</td>\n",
       "      <td>ML</td>\n",
       "      <td>1624559460</td>\n",
       "      <td>6</td>\n",
       "      <td>22.6783</td>\n",
       "      <td>-3.9836</td>\n",
       "      <td>109.27</td>\n",
       "      <td>7.74</td>\n",
       "    </tr>\n",
       "    <tr>\n",
       "      <th>545</th>\n",
       "      <td>Dunmore East</td>\n",
       "      <td>75</td>\n",
       "      <td>IE</td>\n",
       "      <td>1624559461</td>\n",
       "      <td>82</td>\n",
       "      <td>52.1514</td>\n",
       "      <td>-6.9861</td>\n",
       "      <td>64.99</td>\n",
       "      <td>10.36</td>\n",
       "    </tr>\n",
       "    <tr>\n",
       "      <th>546</th>\n",
       "      <td>Los Llanos de Aridane</td>\n",
       "      <td>75</td>\n",
       "      <td>ES</td>\n",
       "      <td>1624559461</td>\n",
       "      <td>83</td>\n",
       "      <td>28.6585</td>\n",
       "      <td>-17.9182</td>\n",
       "      <td>67.75</td>\n",
       "      <td>13.80</td>\n",
       "    </tr>\n",
       "  </tbody>\n",
       "</table>\n",
       "<p>547 rows × 9 columns</p>\n",
       "</div>"
      ],
      "text/plain": [
       "                          City  Cloudiness Country        Date  Humidity  \\\n",
       "City ID                                                                    \n",
       "0                  Provideniya          99      RU  1624559284        59   \n",
       "1                        Opuwo           0      NA  1624559284        30   \n",
       "2                      Aklavik          40      CA  1624559285        72   \n",
       "3                         Chui         100      UY  1624559285        95   \n",
       "4                    Sinnamary          62      GF  1624559286        67   \n",
       "...                        ...         ...     ...         ...       ...   \n",
       "542                   Yepifan'          15      RU  1624559459        73   \n",
       "543                      Ginir          99      ET  1624559460        76   \n",
       "544                  Taoudenni           3      ML  1624559460         6   \n",
       "545               Dunmore East          75      IE  1624559461        82   \n",
       "546      Los Llanos de Aridane          75      ES  1624559461        83   \n",
       "\n",
       "             Lat       Lng  Max Temp  Wind Speed  \n",
       "City ID                                           \n",
       "0        64.3833 -173.3000     56.79        7.49  \n",
       "1       -18.0607   13.8400     65.21        7.31  \n",
       "2        68.2191 -135.0107     79.63        6.91  \n",
       "3       -33.6971  -53.4616     58.24       14.83  \n",
       "4         5.3833  -52.9500     83.44        2.73  \n",
       "...          ...       ...       ...         ...  \n",
       "542      53.8253   38.5518     75.29        5.70  \n",
       "543       7.1333   40.7000     57.24        6.44  \n",
       "544      22.6783   -3.9836    109.27        7.74  \n",
       "545      52.1514   -6.9861     64.99       10.36  \n",
       "546      28.6585  -17.9182     67.75       13.80  \n",
       "\n",
       "[547 rows x 9 columns]"
      ]
     },
     "execution_count": 6,
     "metadata": {},
     "output_type": "execute_result"
    }
   ],
   "source": [
    "city_df = city_df.rename_axis('City ID')\n",
    "city_df"
   ]
  },
  {
   "cell_type": "markdown",
   "metadata": {},
   "source": [
    "## Inspect the data and remove the cities where the humidity > 100%.\n",
    "----\n",
    "Skip this step if there are no cities that have humidity > 100%. "
   ]
  },
  {
   "cell_type": "code",
   "execution_count": 7,
   "metadata": {},
   "outputs": [
    {
     "data": {
      "text/html": [
       "<div>\n",
       "<style scoped>\n",
       "    .dataframe tbody tr th:only-of-type {\n",
       "        vertical-align: middle;\n",
       "    }\n",
       "\n",
       "    .dataframe tbody tr th {\n",
       "        vertical-align: top;\n",
       "    }\n",
       "\n",
       "    .dataframe thead th {\n",
       "        text-align: right;\n",
       "    }\n",
       "</style>\n",
       "<table border=\"1\" class=\"dataframe\">\n",
       "  <thead>\n",
       "    <tr style=\"text-align: right;\">\n",
       "      <th></th>\n",
       "      <th>City</th>\n",
       "      <th>Cloudiness</th>\n",
       "      <th>Country</th>\n",
       "      <th>Date</th>\n",
       "      <th>Humidity</th>\n",
       "      <th>Lat</th>\n",
       "      <th>Lng</th>\n",
       "      <th>Max Temp</th>\n",
       "      <th>Wind Speed</th>\n",
       "    </tr>\n",
       "    <tr>\n",
       "      <th>City ID</th>\n",
       "      <th></th>\n",
       "      <th></th>\n",
       "      <th></th>\n",
       "      <th></th>\n",
       "      <th></th>\n",
       "      <th></th>\n",
       "      <th></th>\n",
       "      <th></th>\n",
       "      <th></th>\n",
       "    </tr>\n",
       "  </thead>\n",
       "  <tbody>\n",
       "    <tr>\n",
       "      <th>32</th>\n",
       "      <td>Sadao</td>\n",
       "      <td>75</td>\n",
       "      <td>TH</td>\n",
       "      <td>1624559295</td>\n",
       "      <td>100</td>\n",
       "      <td>6.6388</td>\n",
       "      <td>100.4234</td>\n",
       "      <td>78.80</td>\n",
       "      <td>2.01</td>\n",
       "    </tr>\n",
       "    <tr>\n",
       "      <th>145</th>\n",
       "      <td>Alice Springs</td>\n",
       "      <td>1</td>\n",
       "      <td>AU</td>\n",
       "      <td>1624559329</td>\n",
       "      <td>100</td>\n",
       "      <td>-23.7000</td>\n",
       "      <td>133.8833</td>\n",
       "      <td>40.55</td>\n",
       "      <td>3.44</td>\n",
       "    </tr>\n",
       "    <tr>\n",
       "      <th>176</th>\n",
       "      <td>La Asuncion</td>\n",
       "      <td>50</td>\n",
       "      <td>VE</td>\n",
       "      <td>1624559344</td>\n",
       "      <td>100</td>\n",
       "      <td>11.0333</td>\n",
       "      <td>-63.8628</td>\n",
       "      <td>74.93</td>\n",
       "      <td>13.80</td>\n",
       "    </tr>\n",
       "    <tr>\n",
       "      <th>335</th>\n",
       "      <td>Kiryat Gat</td>\n",
       "      <td>0</td>\n",
       "      <td>IL</td>\n",
       "      <td>1624559342</td>\n",
       "      <td>100</td>\n",
       "      <td>31.6100</td>\n",
       "      <td>34.7642</td>\n",
       "      <td>78.82</td>\n",
       "      <td>5.75</td>\n",
       "    </tr>\n",
       "    <tr>\n",
       "      <th>497</th>\n",
       "      <td>Mount Gambier</td>\n",
       "      <td>90</td>\n",
       "      <td>AU</td>\n",
       "      <td>1624559445</td>\n",
       "      <td>100</td>\n",
       "      <td>-37.8333</td>\n",
       "      <td>140.7667</td>\n",
       "      <td>48.11</td>\n",
       "      <td>5.75</td>\n",
       "    </tr>\n",
       "  </tbody>\n",
       "</table>\n",
       "</div>"
      ],
      "text/plain": [
       "                  City  Cloudiness Country        Date  Humidity      Lat  \\\n",
       "City ID                                                                     \n",
       "32               Sadao          75      TH  1624559295       100   6.6388   \n",
       "145      Alice Springs           1      AU  1624559329       100 -23.7000   \n",
       "176        La Asuncion          50      VE  1624559344       100  11.0333   \n",
       "335         Kiryat Gat           0      IL  1624559342       100  31.6100   \n",
       "497      Mount Gambier          90      AU  1624559445       100 -37.8333   \n",
       "\n",
       "              Lng  Max Temp  Wind Speed  \n",
       "City ID                                  \n",
       "32       100.4234     78.80        2.01  \n",
       "145      133.8833     40.55        3.44  \n",
       "176      -63.8628     74.93       13.80  \n",
       "335       34.7642     78.82        5.75  \n",
       "497      140.7667     48.11        5.75  "
      ]
     },
     "execution_count": 7,
     "metadata": {},
     "output_type": "execute_result"
    }
   ],
   "source": [
    "#  Get the indices of cities that have humidity over 100%.\n",
    "city_df[city_df.Humidity > 99]"
   ]
  },
  {
   "cell_type": "code",
   "execution_count": 8,
   "metadata": {},
   "outputs": [],
   "source": [
    "# Make a new DataFrame equal to the city data to drop all humidity outliers by index.\n",
    "# Passing \"inplace=False\" will make a copy of the city_data DataFrame, which we call \"clean_city_data\".\n"
   ]
  },
  {
   "cell_type": "code",
   "execution_count": null,
   "metadata": {},
   "outputs": [],
   "source": [
    "\n"
   ]
  },
  {
   "cell_type": "markdown",
   "metadata": {},
   "source": [
    "## Plotting the Data\n",
    "* Use proper labeling of the plots using plot titles (including date of analysis) and axes labels.\n",
    "* Save the plotted figures as .pngs."
   ]
  },
  {
   "cell_type": "markdown",
   "metadata": {},
   "source": [
    "## Latitude vs. Temperature Plot"
   ]
  },
  {
   "cell_type": "code",
   "execution_count": 9,
   "metadata": {
    "scrolled": true
   },
   "outputs": [
    {
     "data": {
      "text/plain": [
       "Text(0.5, 1.0, 'City Latitude vs. Max Temperature')"
      ]
     },
     "execution_count": 9,
     "metadata": {},
     "output_type": "execute_result"
    },
    {
     "data": {
      "image/png": "[encoded data removed]",
      "text/plain": [
       "<Figure size 432x288 with 1 Axes>"
      ]
     },
     "metadata": {
      "needs_background": "light"
     },
     "output_type": "display_data"
    }
   ],
   "source": [
    "plt.scatter(city_df['Lat'],city_df['Max Temp'], marker = 'o', color= \"red\")\n",
    "plt.grid()\n",
    "plt.xlabel(\"Latitude\")\n",
    "plt.ylabel(\"Temperature (F)\")\n",
    "plt.title(\"City Latitude vs. Max Temperature\")"
   ]
  },
  {
   "cell_type": "markdown",
   "metadata": {},
   "source": [
    "## Latitude vs. Humidity Plot"
   ]
  },
  {
   "cell_type": "code",
   "execution_count": 10,
   "metadata": {},
   "outputs": [
    {
     "data": {
      "text/plain": [
       "Text(0.5, 1.0, 'City Latitude vs. Humidity')"
      ]
     },
     "execution_count": 10,
     "metadata": {},
     "output_type": "execute_result"
    },
    {
     "data": {
      "image/png": "[encoded data removed]",
      "text/plain": [
       "<Figure size 432x288 with 1 Axes>"
      ]
     },
     "metadata": {
      "needs_background": "light"
     },
     "output_type": "display_data"
    }
   ],
   "source": [
    "plt.scatter(city_df['Lat'],city_df['Humidity'], marker = 'o', color= \"blue\")\n",
    "plt.grid()\n",
    "plt.xlabel(\"Latitude\")\n",
    "plt.ylabel(\"Humidity\")\n",
    "plt.title(\"City Latitude vs. Humidity\")"
   ]
  },
  {
   "cell_type": "markdown",
   "metadata": {},
   "source": [
    "## Latitude vs. Cloudiness Plot"
   ]
  },
  {
   "cell_type": "code",
   "execution_count": 11,
   "metadata": {},
   "outputs": [
    {
     "data": {
      "text/plain": [
       "Text(0.5, 1.0, 'City Latitude vs. Cloudiness')"
      ]
     },
     "execution_count": 11,
     "metadata": {},
     "output_type": "execute_result"
    },
    {
     "data": {
      "image/png": "[encoded data removed]",
      "text/plain": [
       "<Figure size 432x288 with 1 Axes>"
      ]
     },
     "metadata": {
      "needs_background": "light"
     },
     "output_type": "display_data"
    }
   ],
   "source": [
    "plt.scatter(city_df['Lat'],city_df['Cloudiness'], marker = 'o', color= \"purple\")\n",
    "plt.grid()\n",
    "plt.xlabel(\"Latitude\")\n",
    "plt.ylabel(\"Cloudiness\")\n",
    "plt.title(\"City Latitude vs. Cloudiness\")"
   ]
  },
  {
   "cell_type": "markdown",
   "metadata": {},
   "source": [
    "## Latitude vs. Wind Speed Plot"
   ]
  },
  {
   "cell_type": "code",
   "execution_count": 12,
   "metadata": {},
   "outputs": [
    {
     "data": {
      "text/plain": [
       "Text(0.5, 1.0, 'City Latitude vs. Wind Speed')"
      ]
     },
     "execution_count": 12,
     "metadata": {},
     "output_type": "execute_result"
    },
    {
     "data": {
      "image/png": "[encoded data removed]",
      "text/plain": [
       "<Figure size 432x288 with 1 Axes>"
      ]
     },
     "metadata": {
      "needs_background": "light"
     },
     "output_type": "display_data"
    }
   ],
   "source": [
    "plt.scatter(city_df['Lat'],city_df['Wind Speed'], marker = 'o', color= \"green\")\n",
    "plt.grid()\n",
    "plt.xlabel(\"Latitude\")\n",
    "plt.ylabel(\"Wind Speed\")\n",
    "plt.title(\"City Latitude vs. Wind Speed\")"
   ]
  },
  {
   "cell_type": "markdown",
   "metadata": {},
   "source": [
    "## Linear Regression"
   ]
  },
  {
   "cell_type": "code",
   "execution_count": 13,
   "metadata": {},
   "outputs": [],
   "source": [
    "def linear_reg_plot(x_values,y_values):\n",
    "    (slope, intercept, rvalue, pvalue, stderr) = linregress(x_values, y_values)\n",
    "    regress_values = x_values * slope + intercept\n",
    "    line_eq = \"y = \" + str(round(slope,2)) + \"x + \" + str(round(intercept,2))\n",
    "    plt.scatter(x_values,y_values)\n",
    "    plt.plot(x_values,regress_values,\"r-\")\n",
    "    plt.annotate(line_eq,(x_values.median(),y_values.median()),fontsize=15,color=\"red\")\n",
    "    plt.xlabel(\"Latitude\")\n",
    "    print(f\"The r-squared is: {rvalue}\")\n",
    "    plt.show()"
   ]
  },
  {
   "cell_type": "code",
   "execution_count": 14,
   "metadata": {},
   "outputs": [],
   "source": [
    "Northern_hemisphere = city_df.loc[city_df[\"Lat\"]>0]\n",
    "Southern_hemisphere = city_df.loc[city_df[\"Lat\"]<0]"
   ]
  },
  {
   "cell_type": "markdown",
   "metadata": {},
   "source": [
    "####  Northern Hemisphere - Max Temp vs. Latitude Linear Regression"
   ]
  },
  {
   "cell_type": "code",
   "execution_count": 15,
   "metadata": {},
   "outputs": [
    {
     "name": "stdout",
     "output_type": "stream",
     "text": [
      "The r-squared is: -0.6805922979919425\n"
     ]
    },
    {
     "data": {
      "image/png": "[encoded data removed]",
      "text/plain": [
       "<Figure size 432x288 with 1 Axes>"
      ]
     },
     "metadata": {
      "needs_background": "light"
     },
     "output_type": "display_data"
    },
    {
     "name": "stdout",
     "output_type": "stream",
     "text": [
      "None\n"
     ]
    }
   ],
   "source": [
    "x_values = Northern_hemisphere[\"Lat\"]\n",
    "y_values = Northern_hemisphere[\"Max Temp\"]\n",
    "plt.ylabel(\"Max Temp (F)\")\n",
    "print(linear_reg_plot(x_values,y_values))"
   ]
  },
  {
   "cell_type": "markdown",
   "metadata": {},
   "source": [
    "####  Southern Hemisphere - Max Temp vs. Latitude Linear Regression"
   ]
  },
  {
   "cell_type": "code",
   "execution_count": 16,
   "metadata": {},
   "outputs": [
    {
     "name": "stdout",
     "output_type": "stream",
     "text": [
      "The r-squared is: 0.8092570577506136\n"
     ]
    },
    {
     "data": {
      "image/png": "[encoded data removed]",
      "text/plain": [
       "<Figure size 432x288 with 1 Axes>"
      ]
     },
     "metadata": {
      "needs_background": "light"
     },
     "output_type": "display_data"
    },
    {
     "name": "stdout",
     "output_type": "stream",
     "text": [
      "None\n"
     ]
    }
   ],
   "source": [
    "x_values = Southern_hemisphere[\"Lat\"]\n",
    "y_values = Southern_hemisphere[\"Max Temp\"]\n",
    "plt.ylabel(\"Max Temp (F)\")\n",
    "print(linear_reg_plot(x_values,y_values))\n"
   ]
  },
  {
   "cell_type": "markdown",
   "metadata": {},
   "source": [
    "####  Northern Hemisphere - Humidity (%) vs. Latitude Linear Regression"
   ]
  },
  {
   "cell_type": "code",
   "execution_count": 17,
   "metadata": {},
   "outputs": [
    {
     "name": "stdout",
     "output_type": "stream",
     "text": [
      "The r-squared is: 0.1159033895873169\n"
     ]
    },
    {
     "data": {
      "image/png": "[encoded data removed]",
      "text/plain": [
       "<Figure size 432x288 with 1 Axes>"
      ]
     },
     "metadata": {
      "needs_background": "light"
     },
     "output_type": "display_data"
    },
    {
     "name": "stdout",
     "output_type": "stream",
     "text": [
      "None\n"
     ]
    }
   ],
   "source": [
    "x_values = Northern_hemisphere[\"Lat\"]\n",
    "y_values = Northern_hemisphere[\"Humidity\"]\n",
    "plt.ylabel(\"Humidity (%)\")\n",
    "print(linear_reg_plot(x_values,y_values))"
   ]
  },
  {
   "cell_type": "markdown",
   "metadata": {},
   "source": [
    "####  Southern Hemisphere - Humidity (%) vs. Latitude Linear Regression"
   ]
  },
  {
   "cell_type": "code",
   "execution_count": 18,
   "metadata": {},
   "outputs": [
    {
     "name": "stdout",
     "output_type": "stream",
     "text": [
      "The r-squared is: -0.257040413704811\n"
     ]
    },
    {
     "data": {
      "image/png": "[encoded data removed]",
      "text/plain": [
       "<Figure size 432x288 with 1 Axes>"
      ]
     },
     "metadata": {
      "needs_background": "light"
     },
     "output_type": "display_data"
    },
    {
     "name": "stdout",
     "output_type": "stream",
     "text": [
      "None\n"
     ]
    }
   ],
   "source": [
    "\n",
    "x_values = Southern_hemisphere[\"Lat\"]\n",
    "y_values = Southern_hemisphere[\"Humidity\"]\n",
    "plt.ylim(0, y_values.max()+100)\n",
    "plt.ylabel(\"Humidity (%)\")\n",
    "print(linear_reg_plot(x_values,y_values))"
   ]
  },
  {
   "cell_type": "markdown",
   "metadata": {},
   "source": [
    "####  Northern Hemisphere - Cloudiness (%) vs. Latitude Linear Regression"
   ]
  },
  {
   "cell_type": "code",
   "execution_count": 19,
   "metadata": {},
   "outputs": [
    {
     "name": "stdout",
     "output_type": "stream",
     "text": [
      "The r-squared is: -0.048696291425196984\n"
     ]
    },
    {
     "data": {
      "image/png": "[encoded data removed]",
      "text/plain": [
       "<Figure size 432x288 with 1 Axes>"
      ]
     },
     "metadata": {
      "needs_background": "light"
     },
     "output_type": "display_data"
    },
    {
     "name": "stdout",
     "output_type": "stream",
     "text": [
      "None\n"
     ]
    }
   ],
   "source": [
    "x_values = Northern_hemisphere[\"Lat\"]\n",
    "y_values = Northern_hemisphere[\"Cloudiness\"]\n",
    "plt.ylabel(\"Cloudiness\")\n",
    "print(linear_reg_plot(x_values,y_values))"
   ]
  },
  {
   "cell_type": "markdown",
   "metadata": {},
   "source": [
    "####  Southern Hemisphere - Cloudiness (%) vs. Latitude Linear Regression"
   ]
  },
  {
   "cell_type": "code",
   "execution_count": 20,
   "metadata": {},
   "outputs": [
    {
     "name": "stdout",
     "output_type": "stream",
     "text": [
      "The r-squared is: -0.07957382269416878\n"
     ]
    },
    {
     "data": {
      "image/png": "[encoded data removed]",
      "text/plain": [
       "<Figure size 432x288 with 1 Axes>"
      ]
     },
     "metadata": {
      "needs_background": "light"
     },
     "output_type": "display_data"
    },
    {
     "name": "stdout",
     "output_type": "stream",
     "text": [
      "None\n"
     ]
    }
   ],
   "source": [
    "\n",
    "x_values = Southern_hemisphere[\"Lat\"]\n",
    "y_values = Southern_hemisphere[\"Cloudiness\"]\n",
    "plt.ylabel(\"Cloudiness\")\n",
    "print(linear_reg_plot(x_values,y_values))"
   ]
  },
  {
   "cell_type": "markdown",
   "metadata": {},
   "source": [
    "####  Northern Hemisphere - Wind Speed (mph) vs. Latitude Linear Regression"
   ]
  },
  {
   "cell_type": "code",
   "execution_count": 21,
   "metadata": {},
   "outputs": [
    {
     "name": "stdout",
     "output_type": "stream",
     "text": [
      "The r-squared is: 0.0712590097119445\n"
     ]
    },
    {
     "data": {
      "image/png": "[encoded data removed]",
      "text/plain": [
       "<Figure size 432x288 with 1 Axes>"
      ]
     },
     "metadata": {
      "needs_background": "light"
     },
     "output_type": "display_data"
    },
    {
     "name": "stdout",
     "output_type": "stream",
     "text": [
      "None\n"
     ]
    }
   ],
   "source": [
    "x_values = Northern_hemisphere[\"Lat\"]\n",
    "y_values = Northern_hemisphere[\"Wind Speed\"]\n",
    "plt.ylabel(\"Wind Speed\")\n",
    "print(linear_reg_plot(x_values,y_values))"
   ]
  },
  {
   "cell_type": "markdown",
   "metadata": {},
   "source": [
    "####  Southern Hemisphere - Wind Speed (mph) vs. Latitude Linear Regression"
   ]
  },
  {
   "cell_type": "code",
   "execution_count": 22,
   "metadata": {},
   "outputs": [
    {
     "name": "stdout",
     "output_type": "stream",
     "text": [
      "The r-squared is: -0.15516570420784045\n"
     ]
    },
    {
     "data": {
      "image/png": "[encoded data removed]",
      "text/plain": [
       "<Figure size 432x288 with 1 Axes>"
      ]
     },
     "metadata": {
      "needs_background": "light"
     },
     "output_type": "display_data"
    },
    {
     "name": "stdout",
     "output_type": "stream",
     "text": [
      "None\n"
     ]
    }
   ],
   "source": [
    "x_values = Southern_hemisphere[\"Lat\"]\n",
    "y_values = Southern_hemisphere[\"Wind Speed\"]\n",
    "plt.ylabel(\"Wind Speed\")\n",
    "print(linear_reg_plot(x_values,y_values))"
   ]
  },
  {
   "cell_type": "code",
   "execution_count": null,
   "metadata": {},
   "outputs": [],
   "source": []
  }
 ],
 "metadata": {
  "anaconda-cloud": {},
  "kernel_info": {
   "name": "python3"
  },
  "kernelspec": {
   "display_name": "Python 3",
   "language": "python",
   "name": "python3"
  },
  "language_info": {
   "codemirror_mode": {
    "name": "ipython",
    "version": 3
   },
   "file_extension": ".py",
   "mimetype": "text/x-python",
   "name": "python",
   "nbconvert_exporter": "python",
   "pygments_lexer": "ipython3",
   "version": "3.8.5"
  },
  "latex_envs": {
   "LaTeX_envs_menu_present": true,
   "autoclose": false,
   "autocomplete": true,
   "bibliofile": "biblio.bib",
   "cite_by": "apalike",
   "current_citInitial": 1,
   "eqLabelWithNumbers": true,
   "eqNumInitial": 1,
   "hotkeys": {
    "equation": "Ctrl-E",
    "itemize": "Ctrl-I"
   },
   "labels_anchors": false,
   "latex_user_defs": false,
   "report_style_numbering": false,
   "user_envs_cfg": false
  },
  "nteract": {
   "version": "0.12.3"
  }
 },
 "nbformat": 4,
 "nbformat_minor": 4
}
